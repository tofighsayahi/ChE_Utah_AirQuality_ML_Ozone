{
  "nbformat": 4,
  "nbformat_minor": 0,
  "metadata": {
    "colab": {
      "name": "Neural_Network_Notebook.ipynb",
      "version": "0.3.2",
      "provenance": [],
      "collapsed_sections": [],
      "include_colab_link": true
    },
    "kernelspec": {
      "name": "python3",
      "display_name": "Python 3"
    },
    "accelerator": "GPU"
  },
  "cells": [
    {
      "cell_type": "markdown",
      "metadata": {
        "id": "view-in-github",
        "colab_type": "text"
      },
      "source": [
        "<a href=\"https://colab.research.google.com/github/machine-learning-airu-ozone/ChE_Utah_AirQuality_ML_Ozone/blob/master/Google_Colab_Jupyter_Notebooks/Neural_Network_Notebook.ipynb\" target=\"_parent\"><img src=\"https://colab.research.google.com/assets/colab-badge.svg\" alt=\"Open In Colab\"/></a>"
      ]
    },
    {
      "cell_type": "markdown",
      "metadata": {
        "id": "lYRyGd5toEtA",
        "colab_type": "text"
      },
      "source": [
        "\n",
        "# Neural Network Notebook Template\n",
        "## Summer 2019-Air U Project \n",
        "### Timothy Quah\n",
        "\n",
        "This template is an example of how to train neural networks on Google Colab. Google Colab has free GPU/TPU resources that can help train neural networks that deal with large datasets"
      ]
    },
    {
      "cell_type": "markdown",
      "metadata": {
        "id": "SrWNnKfpo7jE",
        "colab_type": "text"
      },
      "source": [
        "###  Load Data into Google Colab"
      ]
    },
    {
      "cell_type": "markdown",
      "metadata": {
        "id": "521dQaTBoaXF",
        "colab_type": "text"
      },
      "source": [
        "First thing we must do is to load our data into the Google Colab environment. To do this we must do the following:\n",
        "First we need to mount the drive which we use the following lines to do. There are ways to automate this process, but I am honestly a bit too lazy to do this."
      ]
    },
    {
      "cell_type": "code",
      "metadata": {
        "id": "oQkUBhbzoBJg",
        "colab_type": "code",
        "outputId": "65500b68-1d4e-42fe-e403-503874445bf0",
        "colab": {
          "base_uri": "https://localhost:8080/",
          "height": 121
        }
      },
      "source": [
        "from google.colab import drive\n",
        "drive.mount('/content/drive')"
      ],
      "execution_count": 0,
      "outputs": [
        {
          "output_type": "stream",
          "text": [
            "Go to this URL in a browser: https://accounts.google.com/o/oauth2/auth?client_id=947318989803-6bn6qk8qdgf4n4g3pfee6491hc0brc4i.apps.googleusercontent.com&redirect_uri=urn%3Aietf%3Awg%3Aoauth%3A2.0%3Aoob&scope=email%20https%3A%2F%2Fwww.googleapis.com%2Fauth%2Fdocs.test%20https%3A%2F%2Fwww.googleapis.com%2Fauth%2Fdrive%20https%3A%2F%2Fwww.googleapis.com%2Fauth%2Fdrive.photos.readonly%20https%3A%2F%2Fwww.googleapis.com%2Fauth%2Fpeopleapi.readonly&response_type=code\n",
            "\n",
            "Enter your authorization code:\n",
            "··········\n",
            "Mounted at /content/drive\n"
          ],
          "name": "stdout"
        }
      ]
    },
    {
      "cell_type": "markdown",
      "metadata": {
        "id": "1s6yBjx-pt8N",
        "colab_type": "text"
      },
      "source": [
        "The next step we will do is to verify that the path exist to our files that we have stored on google drive. "
      ]
    },
    {
      "cell_type": "code",
      "metadata": {
        "id": "ggZr0_QMxNId",
        "colab_type": "code",
        "outputId": "b3c6dfac-a6ba-44a3-b480-89cf3bab12dc",
        "colab": {
          "base_uri": "https://localhost:8080/",
          "height": 34
        }
      },
      "source": [
        "import os\n",
        "#! ls '/content/drive/My Drive/AirU_Ozone_Project/08212019_Import_ML_Data'\n",
        "import_data_path = '/content/drive/My Drive/AirU_Ozone_Project/08212019_Import_ML_Data'\n",
        "\n",
        "print('Does Data Path? '+str(os.path.exists(import_data_path)))\n"
      ],
      "execution_count": 0,
      "outputs": [
        {
          "output_type": "stream",
          "text": [
            "Does Data Path? True\n"
          ],
          "name": "stdout"
        }
      ]
    },
    {
      "cell_type": "markdown",
      "metadata": {
        "id": "qEYQf1XBABor",
        "colab_type": "text"
      },
      "source": [
        "Next we need to clone our repository and then load it into this notebook"
      ]
    },
    {
      "cell_type": "code",
      "metadata": {
        "id": "uP8EN2C4AJIY",
        "colab_type": "code",
        "outputId": "d2fab6dc-9cce-44da-8051-411925e792f8",
        "colab": {
          "base_uri": "https://localhost:8080/",
          "height": 185
        }
      },
      "source": [
        "#!ls '/content/drive/My Drive/AirU_Ozone_Project'\n",
        "Repository_Path = '/content/drive/My Drive/AirU_Ozone_Project/Repository'\n",
        "print('Does Repo Path? '+str(os.path.exists(Repository_Path)))\n",
        "os.chdir(Repository_Path)\n",
        "\n",
        "\n",
        "if len(os.listdir('/content/drive/My Drive/AirU_Ozone_Project/Repository'))>0:\n",
        "  !rm -r *\n",
        "  print('Old Repository Deleted')\n",
        "  \n",
        "! git clone https://github.com/machine-learning-airu-ozone/ChE_Utah_AirQuality_ML_Ozone\n",
        "import_script_path = '/content/drive/My Drive/AirU_Ozone_Project/Repository/ChE_Utah_AirQuality_ML_Ozone/Functions'\n",
        "print('Does Function Path? '+str(os.path.exists(import_script_path)))"
      ],
      "execution_count": 0,
      "outputs": [
        {
          "output_type": "stream",
          "text": [
            "Does Repo Path? True\n",
            "Old Repository Deleted\n",
            "Cloning into 'ChE_Utah_AirQuality_ML_Ozone'...\n",
            "remote: Enumerating objects: 159, done.\u001b[K\n",
            "remote: Counting objects: 100% (159/159), done.\u001b[K\n",
            "remote: Compressing objects: 100% (124/124), done.\u001b[K\n",
            "remote: Total 159 (delta 79), reused 95 (delta 35), pack-reused 0\u001b[K\n",
            "Receiving objects: 100% (159/159), 45.00 MiB | 18.54 MiB/s, done.\n",
            "Resolving deltas: 100% (79/79), done.\n",
            "Does Function Path? True\n"
          ],
          "name": "stdout"
        }
      ]
    },
    {
      "cell_type": "markdown",
      "metadata": {
        "id": "9WcmQzHVyWtA",
        "colab_type": "text"
      },
      "source": [
        "Next we import all the packages we need. If you need a specific version it is possible, but will take an extra line: example  !pip install seaborn==0.9.0\n"
      ]
    },
    {
      "cell_type": "code",
      "metadata": {
        "id": "XbNnV-aAyaZj",
        "colab_type": "code",
        "outputId": "ad25a159-6509-40ce-e32b-0323d0d31385",
        "colab": {
          "base_uri": "https://localhost:8080/",
          "height": 34
        }
      },
      "source": [
        "import os\n",
        "import pandas as pd\n",
        "import numpy as np\n",
        "import matplotlib.pyplot as plt\n",
        "import keras.optimizers as optimizers\n",
        "from keras.models import Sequential\n",
        "from keras.layers import Dense\n",
        "import matplotlib.pyplot as plt\n",
        "import random\n",
        "from copy import deepcopy\n",
        "from keras import backend as K\n",
        "from sklearn.preprocessing import MinMaxScaler"
      ],
      "execution_count": 0,
      "outputs": [
        {
          "output_type": "stream",
          "text": [
            "Using TensorFlow backend.\n"
          ],
          "name": "stderr"
        }
      ]
    },
    {
      "cell_type": "markdown",
      "metadata": {
        "id": "N7F7XMIn1La2",
        "colab_type": "text"
      },
      "source": [
        "Now we need to load some scripts from our custom made functions into the enviroment"
      ]
    },
    {
      "cell_type": "code",
      "metadata": {
        "id": "OL6eqJWo1TvV",
        "colab_type": "code",
        "colab": {}
      },
      "source": [
        "os.chdir(import_script_path)\n",
        "from Trainer_Functions import r2_keras,model_neural_network,load_evaluate_neural_net,norm_divider,divider_XY,mse,r2\n"
      ],
      "execution_count": 0,
      "outputs": []
    },
    {
      "cell_type": "markdown",
      "metadata": {
        "id": "LIWzCApazPyV",
        "colab_type": "text"
      },
      "source": [
        "Next we need to just make sure to close all plots and just in case we have set random seeds\n"
      ]
    },
    {
      "cell_type": "code",
      "metadata": {
        "id": "UJt6W9_m2Mqq",
        "colab_type": "code",
        "outputId": "6749af16-cf23-450d-9401-951d3982ca49",
        "colab": {
          "base_uri": "https://localhost:8080/",
          "height": 34
        }
      },
      "source": [
        "plt.close('all')\n",
        "random.seed(7)\n",
        "np.random.seed(7)\n",
        "load_data_list = os.listdir(import_data_path)\n",
        "print(load_data_list)"
      ],
      "execution_count": 0,
      "outputs": [
        {
          "output_type": "stream",
          "text": [
            "['outsider_data.csv', 'train_validate_data.csv']\n"
          ],
          "name": "stdout"
        }
      ]
    },
    {
      "cell_type": "markdown",
      "metadata": {
        "id": "rKehy-FG3L89",
        "colab_type": "text"
      },
      "source": [
        "We see in this case we have two files one called 'outsider_data.csv' we will load both files (including 'train_validate_data.csv') now"
      ]
    },
    {
      "cell_type": "code",
      "metadata": {
        "id": "jqAlFzlF2_N-",
        "colab_type": "code",
        "colab": {}
      },
      "source": [
        "i = 1\n",
        "full_path = os.path.join(import_data_path,load_data_list[i])\n",
        "df = pd.read_csv(full_path)\n",
        "header =list(df) \n"
      ],
      "execution_count": 0,
      "outputs": []
    },
    {
      "cell_type": "markdown",
      "metadata": {
        "id": "9FDEN1zQ5lq8",
        "colab_type": "text"
      },
      "source": [
        "Now we need to divide the training data from the validation data as well as inputs from outputs. In this case we will set up 70% training and 30% Validation.\n",
        "\n",
        "\n",
        "---\n",
        "\n"
      ]
    },
    {
      "cell_type": "code",
      "metadata": {
        "id": "KUg0CuM152yC",
        "colab_type": "code",
        "colab": {}
      },
      "source": [
        "header_num = len(header)\n",
        "Full_List = list(np.arange(0,header_num-1+1e-6,1,dtype=int))\n",
        "Y_Loc =  header.index('O3 Value')\n",
        "Y_header_list = []\n",
        "Y_header_list.append(Y_Loc)\n",
        "X_header_list = list(set(Full_List)-set(Y_header_list))\n",
        "\n",
        "data_array = np.array(df)\n",
        "train_list,valid_list = norm_divider(data_array)\n",
        "X,Y,X_valid,Y_valid = divider_XY(X_header_list,Y_header_list,data_array,train_list,valid_list)"
      ],
      "execution_count": 0,
      "outputs": []
    },
    {
      "cell_type": "markdown",
      "metadata": {
        "id": "BJ2iFnOQ0Jn9",
        "colab_type": "text"
      },
      "source": [
        "Now we need to specify the neural network archetecture (layers (how deep) and nodes (how wide)), the learning rate (how aggressive the optimizer is),  how long to train, and batch sizes. Finally we want to use the validation data to evaluate the neural network.\n"
      ]
    },
    {
      "cell_type": "code",
      "metadata": {
        "id": "fOZ2GHkl0nYT",
        "colab_type": "code",
        "outputId": "6e9035b4-35e7-409b-da49-11625daa5256",
        "colab": {
          "base_uri": "https://localhost:8080/",
          "height": 638
        }
      },
      "source": [
        "layer = 1\n",
        "nodes = 40\n",
        "learning_rate = 0.05\n",
        "epochs = 100\n",
        "batchsize = 32\n",
        "droprate = 0.2\n",
        "input_dim_ = len(X_header_list)\n",
        "output_dim_ = len(Y_header_list)\n",
        "model = model_neural_network(layer,nodes,input_dim_,output_dim_,DropPercent = droprate)\n",
        "optimizers.Adam(lr=learning_rate)\n",
        "model.compile(loss='mean_squared_error',optimizer=\"adam\", metrics=[r2_keras])\n",
        "history = model.fit(x=X, y = Y, nb_epoch=epochs, batch_size=batchsize,verbose = 0)\n",
        "Y_pred = model.predict(X_valid)\n",
        "plt.figure()\n",
        "plt.plot(history.history['loss'])\n",
        "plt.title('Loss over Time')\n",
        "plt.ylabel('Loss')\n",
        "plt.xlabel('epoch')\n"
      ],
      "execution_count": 0,
      "outputs": [
        {
          "output_type": "stream",
          "text": [
            "WARNING: Logging before flag parsing goes to stderr.\n",
            "W0816 03:28:04.930609 140453269510016 deprecation_wrapper.py:119] From /usr/local/lib/python3.6/dist-packages/keras/backend/tensorflow_backend.py:74: The name tf.get_default_graph is deprecated. Please use tf.compat.v1.get_default_graph instead.\n",
            "\n",
            "W0816 03:28:04.966080 140453269510016 deprecation_wrapper.py:119] From /usr/local/lib/python3.6/dist-packages/keras/backend/tensorflow_backend.py:517: The name tf.placeholder is deprecated. Please use tf.compat.v1.placeholder instead.\n",
            "\n",
            "W0816 03:28:04.974092 140453269510016 deprecation_wrapper.py:119] From /usr/local/lib/python3.6/dist-packages/keras/backend/tensorflow_backend.py:4138: The name tf.random_uniform is deprecated. Please use tf.random.uniform instead.\n",
            "\n",
            "W0816 03:28:04.991595 140453269510016 deprecation_wrapper.py:119] From /usr/local/lib/python3.6/dist-packages/keras/backend/tensorflow_backend.py:133: The name tf.placeholder_with_default is deprecated. Please use tf.compat.v1.placeholder_with_default instead.\n",
            "\n",
            "W0816 03:28:05.005885 140453269510016 deprecation.py:506] From /usr/local/lib/python3.6/dist-packages/keras/backend/tensorflow_backend.py:3445: calling dropout (from tensorflow.python.ops.nn_ops) with keep_prob is deprecated and will be removed in a future version.\n",
            "Instructions for updating:\n",
            "Please use `rate` instead of `keep_prob`. Rate should be set to `rate = 1 - keep_prob`.\n",
            "W0816 03:28:05.046667 140453269510016 deprecation_wrapper.py:119] From /usr/local/lib/python3.6/dist-packages/keras/optimizers.py:790: The name tf.train.Optimizer is deprecated. Please use tf.compat.v1.train.Optimizer instead.\n",
            "\n",
            "/usr/local/lib/python3.6/dist-packages/ipykernel_launcher.py:12: UserWarning: The `nb_epoch` argument in `fit` has been renamed `epochs`.\n",
            "  if sys.path[0] == '':\n",
            "W0816 03:28:05.230835 140453269510016 deprecation_wrapper.py:119] From /usr/local/lib/python3.6/dist-packages/keras/backend/tensorflow_backend.py:986: The name tf.assign_add is deprecated. Please use tf.compat.v1.assign_add instead.\n",
            "\n"
          ],
          "name": "stderr"
        },
        {
          "output_type": "execute_result",
          "data": {
            "text/plain": [
              "Text(0.5, 0, 'epoch')"
            ]
          },
          "metadata": {
            "tags": []
          },
          "execution_count": 11
        },
        {
          "output_type": "display_data",
          "data": {
            "image/png": "[encoded data removed]",
            "text/plain": [
              "<Figure size 432x288 with 1 Axes>"
            ]
          },
          "metadata": {
            "tags": []
          }
        }
      ]
    },
    {
      "cell_type": "code",
      "metadata": {
        "id": "J4FvRuDMFhnB",
        "colab_type": "code",
        "outputId": "9f0b6a20-8136-430e-af58-30dcf9de8f45",
        "colab": {
          "base_uri": "https://localhost:8080/",
          "height": 295
        }
      },
      "source": [
        "fig = plt.figure()\n",
        "plt.plot(history.history['loss'])\n",
        "plt.title('Loss over Time')\n",
        "plt.ylabel('Loss')\n",
        "plt.xlabel('epoch')\n",
        "\n",
        "from google.colab import files\n",
        "name = 'MSE_Training_history_optimize.jpg'\n",
        "plt.savefig(name,dpi=300)\n",
        "files.download(name)"
      ],
      "execution_count": 0,
      "outputs": [
        {
          "output_type": "display_data",
          "data": {
            "image/png": "[encoded data removed]",
            "text/plain": [
              "<Figure size 432x288 with 1 Axes>"
            ]
          },
          "metadata": {
            "tags": []
          }
        }
      ]
    },
    {
      "cell_type": "markdown",
      "metadata": {
        "id": "iXDfVFhO4BWU",
        "colab_type": "text"
      },
      "source": [
        "Now we need to evaluate the neural network's performance using Mean Squared Error and R2"
      ]
    },
    {
      "cell_type": "code",
      "metadata": {
        "id": "mS9nXQYx4NLT",
        "colab_type": "code",
        "outputId": "846d2f8f-c6b1-40e5-f5dd-0a983f310c7b",
        "colab": {
          "base_uri": "https://localhost:8080/",
          "height": 51
        }
      },
      "source": [
        "print('Mean Squared Error on Validation Data | MSE = %0.5e'%mse(Y_valid,Y_pred))\n",
        "print('R2 Value | R2 = %0.3f'%r2(Y_valid,Y_pred))\n"
      ],
      "execution_count": 0,
      "outputs": [
        {
          "output_type": "stream",
          "text": [
            "Mean Squared Error on Validation Data | MSE = 0.01083\n",
            "R2 Value | R2 = 0.804\n"
          ],
          "name": "stdout"
        }
      ]
    },
    {
      "cell_type": "markdown",
      "metadata": {
        "id": "-48lkGLP617d",
        "colab_type": "text"
      },
      "source": [
        "Now lets plot our results"
      ]
    },
    {
      "cell_type": "code",
      "metadata": {
        "id": "rry7wXjH66nU",
        "colab_type": "code",
        "outputId": "06ff5f7b-d68b-4e5d-cc34-de69bed39b7d",
        "colab": {
          "base_uri": "https://localhost:8080/",
          "height": 297
        }
      },
      "source": [
        "xy_parity = np.linspace(0,1,10)\n",
        "fig = plt.figure()\n",
        "plt.scatter(Y_valid,Y_pred,c = 'b',s = 0.1)\n",
        "plt.plot(xy_parity,xy_parity,'k')\n",
        "plt.xlim(-0.1,1.1)\n",
        "plt.ylim(-0.1,1.1)\n",
        "plt.xlabel('Experimental Value')\n",
        "plt.ylabel('Model Predicted Value')\n",
        "plt.title('$O_3$ Parity Plot-Validation Dataset')\n",
        "from google.colab import files\n",
        "name = 'MSE_O3_Parity_optimize.jpg'\n",
        "plt.savefig(name,dpi=300)\n",
        "files.download(name)"
      ],
      "execution_count": 0,
      "outputs": [
        {
          "output_type": "display_data",
          "data": {
            "image/png": "[encoded data removed]",
            "text/plain": [
              "<Figure size 432x288 with 1 Axes>"
            ]
          },
          "metadata": {
            "tags": []
          }
        }
      ]
    },
    {
      "cell_type": "markdown",
      "metadata": {
        "id": "ssFQddIw7WGJ",
        "colab_type": "text"
      },
      "source": [
        "Now lets use the other dataset to see how our model is behaving if we don't use the sensor for training."
      ]
    },
    {
      "cell_type": "code",
      "metadata": {
        "id": "AIgVtMWl7ew8",
        "colab_type": "code",
        "outputId": "6bdd95c8-b295-4a4f-9e21-57bee76b80cb",
        "colab": {
          "base_uri": "https://localhost:8080/",
          "height": 231
        }
      },
      "source": [
        "i = 0\n",
        "full_path = os.path.join(import_data_path,load_data_list[i])\n",
        "df_test = pd.read_csv(full_path)\n",
        "data_array_test = np.array(df_test)\n",
        "X_Other = data_array_test[:,X_header_list]\n",
        "Y_Other = data_array_test[:,Y_header_list]\n",
        "Y_other_pred = model.predict(X_Other)\n",
        "print('Mean Squared Error on Validation Data | MSE = %0.5f'%mse(Y_Other,Y_other_pred))\n",
        "print('R2 Value | R2 = %0.3f'%r2(Y_Other,Y_other_pred))"
      ],
      "execution_count": 0,
      "outputs": [
        {
          "output_type": "error",
          "ename": "NameError",
          "evalue": "ignored",
          "traceback": [
            "\u001b[0;31m---------------------------------------------------------------------------\u001b[0m",
            "\u001b[0;31mNameError\u001b[0m                                 Traceback (most recent call last)",
            "\u001b[0;32m<ipython-input-15-48ef7765d113>\u001b[0m in \u001b[0;36m<module>\u001b[0;34m()\u001b[0m\n\u001b[1;32m      4\u001b[0m \u001b[0;34m\u001b[0m\u001b[0m\n\u001b[1;32m      5\u001b[0m \u001b[0mother_header\u001b[0m \u001b[0;34m=\u001b[0m \u001b[0mlist\u001b[0m\u001b[0;34m(\u001b[0m\u001b[0mdf_test\u001b[0m\u001b[0;34m)\u001b[0m\u001b[0;34m\u001b[0m\u001b[0;34m\u001b[0m\u001b[0m\n\u001b[0;32m----> 6\u001b[0;31m \u001b[0;32mfor\u001b[0m \u001b[0mi\u001b[0m \u001b[0;32min\u001b[0m \u001b[0mrange\u001b[0m\u001b[0;34m(\u001b[0m\u001b[0;36m0\u001b[0m\u001b[0;34m,\u001b[0m\u001b[0mlen\u001b[0m\u001b[0;34m(\u001b[0m\u001b[0mdelete_list\u001b[0m\u001b[0;34m)\u001b[0m\u001b[0;34m)\u001b[0m\u001b[0;34m:\u001b[0m\u001b[0;34m\u001b[0m\u001b[0;34m\u001b[0m\u001b[0m\n\u001b[0m\u001b[1;32m      7\u001b[0m   \u001b[0mindex\u001b[0m \u001b[0;34m=\u001b[0m \u001b[0mother_header\u001b[0m\u001b[0;34m.\u001b[0m\u001b[0mindex\u001b[0m\u001b[0;34m(\u001b[0m\u001b[0mdelete_list\u001b[0m\u001b[0;34m[\u001b[0m\u001b[0mi\u001b[0m\u001b[0;34m]\u001b[0m\u001b[0;34m)\u001b[0m\u001b[0;34m\u001b[0m\u001b[0;34m\u001b[0m\u001b[0m\n\u001b[1;32m      8\u001b[0m   \u001b[0;32mdel\u001b[0m \u001b[0mdf_test\u001b[0m\u001b[0;34m[\u001b[0m\u001b[0mother_header\u001b[0m\u001b[0;34m[\u001b[0m\u001b[0mindex\u001b[0m\u001b[0;34m]\u001b[0m\u001b[0;34m]\u001b[0m\u001b[0;34m\u001b[0m\u001b[0;34m\u001b[0m\u001b[0m\n",
            "\u001b[0;31mNameError\u001b[0m: name 'delete_list' is not defined"
          ]
        }
      ]
    },
    {
      "cell_type": "markdown",
      "metadata": {
        "id": "CAs7bT-d7jl7",
        "colab_type": "text"
      },
      "source": [
        "Again Lets plot our result"
      ]
    },
    {
      "cell_type": "code",
      "metadata": {
        "id": "iShZ7PpP76sd",
        "colab_type": "code",
        "colab": {}
      },
      "source": [
        "xy_parity = np.linspace(0,1,10)\n",
        "fig = plt.figure()\n",
        "plt.scatter(Y_Other,Y_other_pred,c = 'b',s = 0.1)\n",
        "plt.plot(xy_parity,xy_parity,'k')\n",
        "plt.xlim(-0.1,1.1)\n",
        "plt.ylim(-0.1,1.1)\n",
        "plt.xlabel('Experimental Value')\n",
        "plt.ylabel('Model Predicted Value')\n",
        "plt.title('$O_3$ Parity Plot-Other Dataset')\n",
        "from google.colab import files\n",
        "name = 'MSE_Other_Parity_optimize.jpg'\n",
        "plt.savefig(name,dpi=300)\n",
        "files.download(name)"
      ],
      "execution_count": 0,
      "outputs": []
    },
    {
      "cell_type": "code",
      "metadata": {
        "id": "FvqPM2pN39yT",
        "colab_type": "code",
        "colab": {}
      },
      "source": [
        "model_name = 'optimal_nnet_node_mse_'+str(nodes)+'layer_'+str(layer)+'new.h5'\n",
        "\n",
        "!pip install -U -q PyDrive\n",
        "from pydrive.auth import GoogleAuth\n",
        "from pydrive.drive import GoogleDrive \n",
        "from google.colab import auth \n",
        "from oauth2client.client import GoogleCredentials\n",
        "auth.authenticate_user()\n",
        "gauth = GoogleAuth()\n",
        "gauth.credentials = GoogleCredentials.get_application_default()       \n",
        "drive = GoogleDrive(gauth)\n",
        "model.save(model_name)\n",
        "model_file = drive.CreateFile({'title' : model_name})             \n",
        "model_file.SetContentFile(model_name)                \n",
        "model_file.Upload()\n",
        "# download to google drive\n",
        "drive.CreateFile({'id': model_file.get('id')})\n",
        "from google.colab import files\n",
        "files.download(model_name)"
      ],
      "execution_count": 0,
      "outputs": []
    }
  ]
}